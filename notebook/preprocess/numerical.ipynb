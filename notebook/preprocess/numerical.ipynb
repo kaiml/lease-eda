{
 "cells": [
  {
   "cell_type": "markdown",
   "metadata": {},
   "source": [
    "## Basic preprocessing (Numerical Features)"
   ]
  },
  {
   "cell_type": "code",
   "execution_count": 61,
   "metadata": {
    "ExecuteTime": {
     "end_time": "2019-10-18T07:16:40.037551Z",
     "start_time": "2019-10-18T07:16:40.027512Z"
    }
   },
   "outputs": [
    {
     "data": {
      "text/html": [
       "<style>.container { width:88% !important; }</style>"
      ],
      "text/plain": [
       "<IPython.core.display.HTML object>"
      ]
     },
     "metadata": {},
     "output_type": "display_data"
    }
   ],
   "source": [
    "import matplotlib\n",
    "import matplotlib.pyplot as plt\n",
    "import numpy as np\n",
    "import pandas as pd\n",
    "import seaborn as sns\n",
    "from IPython.core.display import HTML, display\n",
    "from tqdm import tqdm_notebook as tqdm\n",
    "\n",
    "display(HTML(\"<style>.container { width:88% !important; }</style>\"))"
   ]
  },
  {
   "cell_type": "code",
   "execution_count": 355,
   "metadata": {
    "ExecuteTime": {
     "end_time": "2019-10-18T08:43:12.559916Z",
     "start_time": "2019-10-18T08:43:11.389960Z"
    }
   },
   "outputs": [],
   "source": [
    "col_names = {\n",
    "    \"アクセス\": \"access\",\n",
    "    \"キッチン\": \"kitchen\",\n",
    "    \"バス・トイレ\": \"bathroom\",\n",
    "    \"周辺環境\": \"neighbor\",\n",
    "    \"契約期間\": \"contract\",\n",
    "    \"建物構造\": \"material\",\n",
    "    \"所在階\": \"floor_stories\",\n",
    "    \"放送・通信\": \"internet\",\n",
    "    \"方角\": \"direction\",\n",
    "    \"築年数\": \"age\",\n",
    "    \"賃料\": \"target\",\n",
    "    \"間取り\": \"layout\",\n",
    "    \"面積\": \"area\",\n",
    "    \"駐車場\": \"parking\",\n",
    "    \"所在地\": \"address\",\n",
    "    \"室内設備\": \"equipment\",\n",
    "}\n",
    "\n",
    "# Read files\n",
    "INPUT_FILE_PATH = \"./../../input\"\n",
    "train_df = pd.read_csv(f\"{INPUT_FILE_PATH}/train.csv\").rename(columns=col_names)\n",
    "test_df = pd.read_csv(f\"{INPUT_FILE_PATH}/test.csv\").rename(columns=col_names)\n",
    "\n",
    "# Combine train and test dataframes\n",
    "df = pd.concat([train_df, test_df], axis=0, sort=True)"
   ]
  },
  {
   "cell_type": "markdown",
   "metadata": {},
   "source": [
    "## target : 賃料"
   ]
  },
  {
   "cell_type": "code",
   "execution_count": 401,
   "metadata": {
    "ExecuteTime": {
     "end_time": "2019-10-18T08:56:02.040799Z",
     "start_time": "2019-10-18T08:56:01.670493Z"
    }
   },
   "outputs": [
    {
     "data": {
      "text/plain": [
       "<matplotlib.axes._subplots.AxesSubplot at 0x7f07816f5510>"
      ]
     },
     "execution_count": 401,
     "metadata": {},
     "output_type": "execute_result"
    },
    {
     "data": {
      "image/png": "[encoded data removed]",
      "text/plain": [
       "<Figure size 432x288 with 1 Axes>"
      ]
     },
     "metadata": {
      "needs_background": "light"
     },
     "output_type": "display_data"
    }
   ],
   "source": [
    "sns.distplot(train_df['target'])"
   ]
  },
  {
   "cell_type": "code",
   "execution_count": 403,
   "metadata": {
    "ExecuteTime": {
     "end_time": "2019-10-18T08:56:32.754572Z",
     "start_time": "2019-10-18T08:56:32.727596Z"
    },
    "scrolled": false
   },
   "outputs": [
    {
     "data": {
      "text/html": [
       "<div>\n",
       "<style scoped>\n",
       "    .dataframe tbody tr th:only-of-type {\n",
       "        vertical-align: middle;\n",
       "    }\n",
       "\n",
       "    .dataframe tbody tr th {\n",
       "        vertical-align: top;\n",
       "    }\n",
       "\n",
       "    .dataframe thead th {\n",
       "        text-align: right;\n",
       "    }\n",
       "</style>\n",
       "<table border=\"1\" class=\"dataframe\">\n",
       "  <thead>\n",
       "    <tr style=\"text-align: right;\">\n",
       "      <th></th>\n",
       "      <th>id</th>\n",
       "      <th>target</th>\n",
       "      <th>address</th>\n",
       "      <th>access</th>\n",
       "      <th>layout</th>\n",
       "      <th>age</th>\n",
       "      <th>direction</th>\n",
       "      <th>area</th>\n",
       "      <th>floor_stories</th>\n",
       "      <th>bathroom</th>\n",
       "      <th>kitchen</th>\n",
       "      <th>internet</th>\n",
       "      <th>equipment</th>\n",
       "      <th>parking</th>\n",
       "      <th>neighbor</th>\n",
       "      <th>material</th>\n",
       "      <th>contract</th>\n",
       "    </tr>\n",
       "  </thead>\n",
       "  <tbody>\n",
       "    <tr>\n",
       "      <td>1501</td>\n",
       "      <td>1502</td>\n",
       "      <td>1200000</td>\n",
       "      <td>東京都港区元麻布３丁目</td>\n",
       "      <td>南北線\\t麻布十番駅\\t徒歩9分\\t\\t都営大江戸線\\t六本木駅\\t徒歩9分\\t\\t東京メト...</td>\n",
       "      <td>3LDK</td>\n",
       "      <td>18年6ヶ月</td>\n",
       "      <td>南東</td>\n",
       "      <td>163.62m2</td>\n",
       "      <td>3階／3階建</td>\n",
       "      <td>専用バス／\\t専用トイレ／\\tバス・トイレ別／\\tシャワー／\\t追焚機能／\\t浴室乾燥機\\t...</td>\n",
       "      <td>ガスコンロ／\\tシステムキッチン\\t／\\t給湯</td>\n",
       "      <td>光ファイバー／\\tCATV／\\tCSアンテナ／\\tBSアンテナ</td>\n",
       "      <td>エアコン付\\tウォークインクローゼット\\tシューズボックス／\\tバルコニー／\\tフローリング...</td>\n",
       "      <td>駐車場\\t空有\\t57,000円(税込)</td>\n",
       "      <td>NaN</td>\n",
       "      <td>RC（鉄筋コンクリート）</td>\n",
       "      <td>5年間\\t※この物件は\\t定期借家\\tです。</td>\n",
       "    </tr>\n",
       "    <tr>\n",
       "      <td>1771</td>\n",
       "      <td>1772</td>\n",
       "      <td>1450000</td>\n",
       "      <td>東京都大田区田園調布３丁目</td>\n",
       "      <td>東急東横線\\t田園調布駅\\t徒歩5分\\t\\t東急目黒線\\t田園調布駅\\t徒歩5分</td>\n",
       "      <td>4LDK+S(納戸)</td>\n",
       "      <td>9年1ヶ月</td>\n",
       "      <td>南西</td>\n",
       "      <td>232.01m2</td>\n",
       "      <td>2階建</td>\n",
       "      <td>専用バス／\\t専用トイレ／\\tシャワー／\\t温水洗浄便座／\\t洗面台独立</td>\n",
       "      <td>ガスコンロ／\\tシステムキッチン\\t／\\t給湯</td>\n",
       "      <td>光ファイバー／\\tCATV</td>\n",
       "      <td>エアコン付\\tウォークインクローゼット\\tフローリング／\\t室内洗濯機置場</td>\n",
       "      <td>駐車場\\t空有</td>\n",
       "      <td>NaN</td>\n",
       "      <td>木造</td>\n",
       "      <td>4年間\\t※この物件は\\t定期借家\\tです。</td>\n",
       "    </tr>\n",
       "    <tr>\n",
       "      <td>5093</td>\n",
       "      <td>5094</td>\n",
       "      <td>2500000</td>\n",
       "      <td>東京都港区三田２丁目4-3</td>\n",
       "      <td>南北線\\t麻布十番駅\\t徒歩8分\\t\\t都営大江戸線\\t赤羽橋駅\\t徒歩9分\\t\\t山手線\\...</td>\n",
       "      <td>2LDK+S(納戸)</td>\n",
       "      <td>1年8ヶ月</td>\n",
       "      <td>西</td>\n",
       "      <td>217.29m2</td>\n",
       "      <td>9階／9階建（地下2階）</td>\n",
       "      <td>専用バス／\\t専用トイレ／\\tバス・トイレ別／\\tシャワー／\\t追焚機能／\\t浴室乾燥機\\t...</td>\n",
       "      <td>IHコンロ\\t／\\tコンロ3口／\\tシステムキッチン\\t／\\tカウンターキッチン\\t／\\tL...</td>\n",
       "      <td>インターネット対応</td>\n",
       "      <td>エアコン付／\\t床暖房\\tウォークインクローゼット\\tシューズボックス／\\tバルコニー／\\t...</td>\n",
       "      <td>駐車場\\t空有(43台)\\t48,600円</td>\n",
       "      <td>【飲食店】 959m\\t【飲食店】 611m\\t【スーパー】 417m\\t【スーパー】 65...</td>\n",
       "      <td>RC（鉄筋コンクリート）</td>\n",
       "      <td>3年間\\t※この物件は\\t定期借家\\tです。</td>\n",
       "    </tr>\n",
       "    <tr>\n",
       "      <td>5775</td>\n",
       "      <td>5776</td>\n",
       "      <td>1203500</td>\n",
       "      <td>東京都港区新橋４丁目</td>\n",
       "      <td>山手線\\t新橋駅\\t徒歩2分\\t\\t都営大江戸線\\t汐留駅\\t徒歩2分</td>\n",
       "      <td>1K</td>\n",
       "      <td>12年5ヶ月</td>\n",
       "      <td>北西</td>\n",
       "      <td>20.53m2</td>\n",
       "      <td>10階／15階建</td>\n",
       "      <td>専用バス／\\t専用トイレ／\\tバス・トイレ別／\\tシャワー／\\t浴室乾燥機\\t／\\t温水洗浄便座</td>\n",
       "      <td>ガスコンロ／\\tコンロ2口／\\tシステムキッチン\\t／\\t給湯</td>\n",
       "      <td>インターネット対応／\\t光ファイバー／\\tCATV／\\tインターネット使用料無料</td>\n",
       "      <td>エアコン付\\tシューズボックス／\\tバルコニー／\\tフローリング／\\t24時間換気システム\\...</td>\n",
       "      <td>駐輪場\\t空有\\t駐車場\\t無\\tバイク置き場\\t無</td>\n",
       "      <td>【スーパー】 432m\\t【スーパー】 570m\\t【コンビニ】 43m\\t【コンビニ】 2...</td>\n",
       "      <td>RC（鉄筋コンクリート）</td>\n",
       "      <td>2年間</td>\n",
       "    </tr>\n",
       "    <tr>\n",
       "      <td>8706</td>\n",
       "      <td>8707</td>\n",
       "      <td>1390000</td>\n",
       "      <td>東京都港区虎ノ門５丁目11-1</td>\n",
       "      <td>日比谷線\\t神谷町駅\\t徒歩1分\\t\\t南北線\\t六本木一丁目駅\\t徒歩10分\\t\\t都営三...</td>\n",
       "      <td>2LDK</td>\n",
       "      <td>14年10ヶ月</td>\n",
       "      <td>東</td>\n",
       "      <td>138.99m2</td>\n",
       "      <td>7階／24階建</td>\n",
       "      <td>専用バス／\\t専用トイレ／\\tシャワー／\\t追焚機能／\\t浴室乾燥機\\t／\\t温水洗浄便座／...</td>\n",
       "      <td>ガスコンロ／\\tコンロ3口／\\tシステムキッチン\\t／\\t給湯／\\t独立キッチン</td>\n",
       "      <td>インターネット対応／\\tCATV／\\tCSアンテナ／\\tBSアンテナ</td>\n",
       "      <td>エアコン付\\tトランクルーム\\t／\\tウォークインクローゼット\\tバルコニー／\\t24時間換...</td>\n",
       "      <td>駐車場\\t空有\\t54,000円(税込)\\t駐輪場\\t空有\\tバイク置き場\\t無</td>\n",
       "      <td>【スーパー】 558m\\t【スーパー】 535m\\t【コンビニ】 330m\\t【コンビニ】 ...</td>\n",
       "      <td>鉄骨造</td>\n",
       "      <td>3年間\\t※この物件は\\t定期借家\\tです。</td>\n",
       "    </tr>\n",
       "    <tr>\n",
       "      <td>9008</td>\n",
       "      <td>9009</td>\n",
       "      <td>1300000</td>\n",
       "      <td>東京都港区麻布台３丁目4-24</td>\n",
       "      <td>都営大江戸線\\t麻布十番駅\\t徒歩7分\\t\\t南北線\\t六本木一丁目駅\\t徒歩8分\\t\\t日...</td>\n",
       "      <td>3LDK+S(納戸)</td>\n",
       "      <td>30年5ヶ月</td>\n",
       "      <td>南</td>\n",
       "      <td>223.71m2</td>\n",
       "      <td>3階建</td>\n",
       "      <td>専用バス／\\t専用トイレ／\\tバス・トイレ別／\\t追焚機能／\\t浴室乾燥機\\t／\\t洗面台独...</td>\n",
       "      <td>ガスコンロ／\\tコンロ3口／\\tシステムキッチン\\t／\\tL字キッチン</td>\n",
       "      <td>NaN</td>\n",
       "      <td>エアコン付\\tウォークインクローゼット\\tシューズボックス／\\tバルコニー／\\tフローリング...</td>\n",
       "      <td>駐車場\\t空有\\t0円\\t駐輪場\\t空有\\tバイク置き場\\t空有</td>\n",
       "      <td>【スーパー】 538m\\t【コンビニ】 390m\\t【コンビニ】 454m\\t【スーパー】 ...</td>\n",
       "      <td>木造</td>\n",
       "      <td>3年間\\t※この物件は\\t定期借家\\tです。</td>\n",
       "    </tr>\n",
       "    <tr>\n",
       "      <td>11367</td>\n",
       "      <td>11368</td>\n",
       "      <td>1100000</td>\n",
       "      <td>東京都新宿区新宿６丁目</td>\n",
       "      <td>都営大江戸線\\t東新宿駅\\t徒歩2分\\t\\t都営新宿線\\t新宿三丁目駅\\t徒歩10分\\t\\t...</td>\n",
       "      <td>2LDK</td>\n",
       "      <td>25年1ヶ月</td>\n",
       "      <td>南東</td>\n",
       "      <td>192.43m2</td>\n",
       "      <td>9階／10階建（地下1階）</td>\n",
       "      <td>バス・トイレ別／\\tシャワー／\\t追焚機能／\\t温水洗浄便座／\\t洗面台独立／\\t脱衣所</td>\n",
       "      <td>ガスコンロ／\\tコンロ3口／\\t給湯</td>\n",
       "      <td>インターネット対応／\\t光ファイバー</td>\n",
       "      <td>エアコン付\\tロフト付き／\\tバルコニー／\\tフローリング／\\t2面採光／\\t室内洗濯機置場...</td>\n",
       "      <td>駐車場\\t空有\\t43,200円</td>\n",
       "      <td>【スーパー】 170m\\t【スーパー】 502m\\t【コンビニ】 14m\\t【コンビニ】 1...</td>\n",
       "      <td>SRC（鉄骨鉄筋コンクリート）</td>\n",
       "      <td>2年間</td>\n",
       "    </tr>\n",
       "    <tr>\n",
       "      <td>11958</td>\n",
       "      <td>11959</td>\n",
       "      <td>1120000</td>\n",
       "      <td>東京都渋谷区広尾１丁目</td>\n",
       "      <td>山手線\\t恵比寿駅\\t徒歩6分\\t\\t日比谷線\\t広尾駅\\t徒歩13分\\t\\t東急東横線\\t...</td>\n",
       "      <td>4LDK</td>\n",
       "      <td>22年7ヶ月</td>\n",
       "      <td>南</td>\n",
       "      <td>221.3m2</td>\n",
       "      <td>11階／13階建</td>\n",
       "      <td>専用バス／\\t専用トイレ／\\tシャワー／\\t浴室乾燥機\\t／\\t温水洗浄便座／\\t洗面台独立...</td>\n",
       "      <td>ガスコンロ／\\tコンロ4口以上／\\tシステムキッチン\\t／\\t給湯／\\t独立キッチン</td>\n",
       "      <td>インターネット対応／\\t光ファイバー／\\tCATV</td>\n",
       "      <td>エアコン付\\tトランクルーム\\t／\\tウォークインクローゼット\\tシューズボックス／\\tバル...</td>\n",
       "      <td>駐輪場\\t空有\\t駐車場\\t無\\tバイク置き場\\t無</td>\n",
       "      <td>【スーパー】 729m\\t【コンビニ】 177m\\t【スーパー】 363m\\t【病院】 727m</td>\n",
       "      <td>RC（鉄筋コンクリート）</td>\n",
       "      <td>3年間\\t※この物件は\\t定期借家\\tです。</td>\n",
       "    </tr>\n",
       "    <tr>\n",
       "      <td>15417</td>\n",
       "      <td>15418</td>\n",
       "      <td>1300000</td>\n",
       "      <td>東京都港区南麻布１丁目16-2</td>\n",
       "      <td>南北線\\t麻布十番駅\\t徒歩7分\\t\\t南北線\\t白金高輪駅\\t徒歩16分\\t\\t都営大江戸...</td>\n",
       "      <td>2LDK</td>\n",
       "      <td>5年1ヶ月</td>\n",
       "      <td>北</td>\n",
       "      <td>125m2</td>\n",
       "      <td>7階／7階建</td>\n",
       "      <td>専用バス／\\t専用トイレ／\\tバス・トイレ別／\\tシャワー／\\t追焚機能／\\t浴室乾燥機\\t...</td>\n",
       "      <td>ガスコンロ／\\tコンロ3口／\\tシステムキッチン\\t／\\t給湯／\\t独立キッチン／\\tL字キッチン</td>\n",
       "      <td>インターネット対応／\\t光ファイバー</td>\n",
       "      <td>エアコン付\\tウォークインクローゼット\\tシューズボックス／\\tロフト付き／\\tバルコニー／...</td>\n",
       "      <td>駐車場\\t空有\\t54,000円(税込)\\t駐輪場\\t空有\\tバイク置き場\\t無</td>\n",
       "      <td>【スーパー】 217m\\t【スーパー】 541m\\t【コンビニ】 256m\\t【コンビニ】 ...</td>\n",
       "      <td>RC（鉄筋コンクリート）</td>\n",
       "      <td>2年間\\t※この物件は\\t定期借家\\tです。</td>\n",
       "    </tr>\n",
       "    <tr>\n",
       "      <td>16847</td>\n",
       "      <td>16848</td>\n",
       "      <td>1120000</td>\n",
       "      <td>東京都渋谷区広尾１丁目1-7</td>\n",
       "      <td>山手線\\t恵比寿駅\\t徒歩6分\\t\\t日比谷線\\t広尾駅\\t徒歩14分\\t\\t東急東横線\\t...</td>\n",
       "      <td>4LDK</td>\n",
       "      <td>22年7ヶ月</td>\n",
       "      <td>東</td>\n",
       "      <td>221.3m2</td>\n",
       "      <td>11階／13階建（地下2階）</td>\n",
       "      <td>専用バス／\\t専用トイレ／\\tバス・トイレ別／\\tシャワー／\\t追焚機能／\\t温水洗浄便座／...</td>\n",
       "      <td>コンロ4口以上／\\tシステムキッチン\\t／\\t給湯</td>\n",
       "      <td>光ファイバー／\\tCATV</td>\n",
       "      <td>冷房／\\tエアコン付\\tシューズボックス／\\tバルコニー／\\tフローリング／\\t24時間換気...</td>\n",
       "      <td>駐車場\\t空有\\t64,800円\\t(※サイズ・空き要確認)</td>\n",
       "      <td>【デパート】 964m\\t【スーパー】 752m\\t【スーパー】 989m\\t【スーパー】 ...</td>\n",
       "      <td>RC（鉄筋コンクリート）</td>\n",
       "      <td>3年間\\t※この物件は\\t定期借家\\tです。</td>\n",
       "    </tr>\n",
       "    <tr>\n",
       "      <td>17324</td>\n",
       "      <td>17325</td>\n",
       "      <td>1100000</td>\n",
       "      <td>東京都港区南麻布５丁目</td>\n",
       "      <td>日比谷線\\t広尾駅\\t徒歩5分</td>\n",
       "      <td>4LDK</td>\n",
       "      <td>7年0ヶ月</td>\n",
       "      <td>北東</td>\n",
       "      <td>171.43m2</td>\n",
       "      <td>3階／4階建（地下1階）</td>\n",
       "      <td>専用バス／\\t専用トイレ／\\tバス・トイレ別／\\tシャワー／\\t追焚機能／\\t浴室乾燥機\\t...</td>\n",
       "      <td>IHコンロ\\t／\\tシステムキッチン\\t／\\t給湯</td>\n",
       "      <td>光ファイバー／\\tCATV／\\tCSアンテナ／\\tBSアンテナ</td>\n",
       "      <td>エアコン付\\tトランクルーム\\t／\\tウォークインクローゼット\\tシューズボックス／\\tバル...</td>\n",
       "      <td>駐車場\\t空有\\t50,000円(税込)</td>\n",
       "      <td>【コンビニ】 400m\\t【スーパー】 340m\\t【公園】 120m\\t【銀行】 420m</td>\n",
       "      <td>RC（鉄筋コンクリート）</td>\n",
       "      <td>5年間\\t※この物件は\\t定期借家\\tです。</td>\n",
       "    </tr>\n",
       "    <tr>\n",
       "      <td>20024</td>\n",
       "      <td>20025</td>\n",
       "      <td>1100000</td>\n",
       "      <td>東京都港区赤坂８丁目11-38</td>\n",
       "      <td>千代田線\\t乃木坂駅\\t徒歩2分\\t\\t日比谷線\\t六本木駅\\t徒歩8分\\t\\t銀座線\\t青...</td>\n",
       "      <td>3LDK</td>\n",
       "      <td>9年0ヶ月</td>\n",
       "      <td>南西</td>\n",
       "      <td>176.87m2</td>\n",
       "      <td>25階／25階建（地下1階）</td>\n",
       "      <td>専用バス／\\t専用トイレ／\\tバス・トイレ別／\\tシャワー／\\t追焚機能／\\t浴室乾燥機\\t...</td>\n",
       "      <td>ガスコンロ／\\tコンロ3口／\\tシステムキッチン\\t／\\tカウンターキッチン</td>\n",
       "      <td>光ファイバー／\\tBSアンテナ</td>\n",
       "      <td>冷房／\\tエアコン付／\\t床暖房\\tウォークインクローゼット\\tシューズボックス／\\tバルコ...</td>\n",
       "      <td>駐車場\\t空有\\t48,000円\\t(月額48000円～50000円)</td>\n",
       "      <td>【小学校】 1027m\\t【スーパー】 1072m\\t【スーパー】 1159m\\t【レンタル...</td>\n",
       "      <td>RC（鉄筋コンクリート）</td>\n",
       "      <td>4年間\\t※この物件は\\t定期借家\\tです。</td>\n",
       "    </tr>\n",
       "    <tr>\n",
       "      <td>20643</td>\n",
       "      <td>20644</td>\n",
       "      <td>1800000</td>\n",
       "      <td>東京都港区三田２丁目4-3</td>\n",
       "      <td>南北線\\t麻布十番駅\\t徒歩8分\\t\\t都営大江戸線\\t赤羽橋駅\\t徒歩9分\\t\\t山手線\\...</td>\n",
       "      <td>2LDK+S(納戸)</td>\n",
       "      <td>1年8ヶ月</td>\n",
       "      <td>南</td>\n",
       "      <td>151.81m2</td>\n",
       "      <td>5階／9階建（地下2階）</td>\n",
       "      <td>専用バス／\\t専用トイレ／\\tバス・トイレ別／\\tシャワー／\\t追焚機能／\\t浴室乾燥機\\t...</td>\n",
       "      <td>IHコンロ\\t／\\tコンロ3口／\\tシステムキッチン\\t／\\tカウンターキッチン</td>\n",
       "      <td>インターネット対応</td>\n",
       "      <td>エアコン付／\\t床暖房\\tウォークインクローゼット\\tシューズボックス／\\tバルコニー／\\t...</td>\n",
       "      <td>駐車場\\t空有(43台)\\t48,600円</td>\n",
       "      <td>【飲食店】 959m\\t【飲食店】 611m\\t【スーパー】 417m\\t【スーパー】 65...</td>\n",
       "      <td>RC（鉄筋コンクリート）</td>\n",
       "      <td>3年間\\t※この物件は\\t定期借家\\tです。</td>\n",
       "    </tr>\n",
       "    <tr>\n",
       "      <td>20989</td>\n",
       "      <td>20990</td>\n",
       "      <td>1300000</td>\n",
       "      <td>東京都港区南麻布４丁目</td>\n",
       "      <td>日比谷線\\t広尾駅\\t徒歩8分\\t\\t南北線\\t麻布十番駅\\t徒歩18分\\t\\t山手線恵比寿...</td>\n",
       "      <td>3LDK</td>\n",
       "      <td>14年9ヶ月</td>\n",
       "      <td>北東</td>\n",
       "      <td>167.99m2</td>\n",
       "      <td>1階／8階建（地下1階）</td>\n",
       "      <td>専用バス／\\t専用トイレ／\\tシャワー／\\t追焚機能／\\t浴室乾燥機\\t／\\t温水洗浄便座／...</td>\n",
       "      <td>ガスコンロ／\\tシステムキッチン\\t／\\t給湯</td>\n",
       "      <td>光ファイバー／\\tCATV</td>\n",
       "      <td>エアコン付\\tトランクルーム\\t／\\tウォークインクローゼット\\tシューズボックス／\\tバル...</td>\n",
       "      <td>駐車場\\t空有</td>\n",
       "      <td>【コンビニ】 300m\\t【スーパー】 540m\\t【ドラッグストア】 700m\\t【公園】...</td>\n",
       "      <td>RC（鉄筋コンクリート）</td>\n",
       "      <td>3年間\\t※この物件は\\t定期借家\\tです。</td>\n",
       "    </tr>\n",
       "    <tr>\n",
       "      <td>25551</td>\n",
       "      <td>25552</td>\n",
       "      <td>1120000</td>\n",
       "      <td>東京都渋谷区広尾１丁目8-7</td>\n",
       "      <td>山手線\\t恵比寿駅\\t徒歩9分\\t\\t日比谷線\\t広尾駅\\t徒歩9分\\t\\t東急東横線\\t代...</td>\n",
       "      <td>1LDK+S(納戸)</td>\n",
       "      <td>13年11ヶ月</td>\n",
       "      <td>南</td>\n",
       "      <td>144.35m2</td>\n",
       "      <td>9階／10階建（地下1階）</td>\n",
       "      <td>専用バス／\\t専用トイレ／\\tバス・トイレ別／\\tシャワー／\\t追焚機能／\\t浴室乾燥機\\t...</td>\n",
       "      <td>ガスコンロ／\\tコンロ3口／\\tシステムキッチン\\t／\\tカウンターキッチン\\t／\\t給湯</td>\n",
       "      <td>インターネット対応／\\t光ファイバー／\\tCSアンテナ／\\tBSアンテナ</td>\n",
       "      <td>エアコン付\\tシューズボックス／\\tバルコニー／\\tルーフバルコニー\\t／\\tフローリング／...</td>\n",
       "      <td>駐車場\\t無</td>\n",
       "      <td>NaN</td>\n",
       "      <td>SRC（鉄骨鉄筋コンクリート）</td>\n",
       "      <td>2年間</td>\n",
       "    </tr>\n",
       "    <tr>\n",
       "      <td>30539</td>\n",
       "      <td>30540</td>\n",
       "      <td>1660000</td>\n",
       "      <td>東京都渋谷区広尾１丁目</td>\n",
       "      <td>山手線\\t恵比寿駅\\t徒歩6分\\t\\t日比谷線\\t恵比寿駅\\t徒歩6分</td>\n",
       "      <td>4LDK+S(納戸)</td>\n",
       "      <td>22年7ヶ月</td>\n",
       "      <td>南</td>\n",
       "      <td>341.3m2</td>\n",
       "      <td>12階／13階建（地下2階）</td>\n",
       "      <td>温水洗浄便座</td>\n",
       "      <td>給湯／\\t冷蔵庫あり</td>\n",
       "      <td>CATV</td>\n",
       "      <td>トランクルーム\\tエレベーター</td>\n",
       "      <td>駐車場\\t無</td>\n",
       "      <td>NaN</td>\n",
       "      <td>RC（鉄筋コンクリート）</td>\n",
       "      <td>3年間\\t※この物件は\\t定期借家\\tです。</td>\n",
       "    </tr>\n",
       "  </tbody>\n",
       "</table>\n",
       "</div>"
      ],
      "text/plain": [
       "          id   target          address  \\\n",
       "1501    1502  1200000      東京都港区元麻布３丁目   \n",
       "1771    1772  1450000    東京都大田区田園調布３丁目   \n",
       "5093    5094  2500000    東京都港区三田２丁目4-3   \n",
       "5775    5776  1203500       東京都港区新橋４丁目   \n",
       "8706    8707  1390000  東京都港区虎ノ門５丁目11-1   \n",
       "9008    9009  1300000  東京都港区麻布台３丁目4-24   \n",
       "11367  11368  1100000      東京都新宿区新宿６丁目   \n",
       "11958  11959  1120000      東京都渋谷区広尾１丁目   \n",
       "15417  15418  1300000  東京都港区南麻布１丁目16-2   \n",
       "16847  16848  1120000   東京都渋谷区広尾１丁目1-7   \n",
       "17324  17325  1100000      東京都港区南麻布５丁目   \n",
       "20024  20025  1100000  東京都港区赤坂８丁目11-38   \n",
       "20643  20644  1800000    東京都港区三田２丁目4-3   \n",
       "20989  20990  1300000      東京都港区南麻布４丁目   \n",
       "25551  25552  1120000   東京都渋谷区広尾１丁目8-7   \n",
       "30539  30540  1660000      東京都渋谷区広尾１丁目   \n",
       "\n",
       "                                                  access      layout      age  \\\n",
       "1501   南北線\\t麻布十番駅\\t徒歩9分\\t\\t都営大江戸線\\t六本木駅\\t徒歩9分\\t\\t東京メト...        3LDK   18年6ヶ月   \n",
       "1771            東急東横線\\t田園調布駅\\t徒歩5分\\t\\t東急目黒線\\t田園調布駅\\t徒歩5分  4LDK+S(納戸)    9年1ヶ月   \n",
       "5093   南北線\\t麻布十番駅\\t徒歩8分\\t\\t都営大江戸線\\t赤羽橋駅\\t徒歩9分\\t\\t山手線\\...  2LDK+S(納戸)    1年8ヶ月   \n",
       "5775                 山手線\\t新橋駅\\t徒歩2分\\t\\t都営大江戸線\\t汐留駅\\t徒歩2分          1K   12年5ヶ月   \n",
       "8706   日比谷線\\t神谷町駅\\t徒歩1分\\t\\t南北線\\t六本木一丁目駅\\t徒歩10分\\t\\t都営三...        2LDK  14年10ヶ月   \n",
       "9008   都営大江戸線\\t麻布十番駅\\t徒歩7分\\t\\t南北線\\t六本木一丁目駅\\t徒歩8分\\t\\t日...  3LDK+S(納戸)   30年5ヶ月   \n",
       "11367  都営大江戸線\\t東新宿駅\\t徒歩2分\\t\\t都営新宿線\\t新宿三丁目駅\\t徒歩10分\\t\\t...        2LDK   25年1ヶ月   \n",
       "11958  山手線\\t恵比寿駅\\t徒歩6分\\t\\t日比谷線\\t広尾駅\\t徒歩13分\\t\\t東急東横線\\t...        4LDK   22年7ヶ月   \n",
       "15417  南北線\\t麻布十番駅\\t徒歩7分\\t\\t南北線\\t白金高輪駅\\t徒歩16分\\t\\t都営大江戸...        2LDK    5年1ヶ月   \n",
       "16847  山手線\\t恵比寿駅\\t徒歩6分\\t\\t日比谷線\\t広尾駅\\t徒歩14分\\t\\t東急東横線\\t...        4LDK   22年7ヶ月   \n",
       "17324                                    日比谷線\\t広尾駅\\t徒歩5分        4LDK    7年0ヶ月   \n",
       "20024  千代田線\\t乃木坂駅\\t徒歩2分\\t\\t日比谷線\\t六本木駅\\t徒歩8分\\t\\t銀座線\\t青...        3LDK    9年0ヶ月   \n",
       "20643  南北線\\t麻布十番駅\\t徒歩8分\\t\\t都営大江戸線\\t赤羽橋駅\\t徒歩9分\\t\\t山手線\\...  2LDK+S(納戸)    1年8ヶ月   \n",
       "20989  日比谷線\\t広尾駅\\t徒歩8分\\t\\t南北線\\t麻布十番駅\\t徒歩18分\\t\\t山手線恵比寿...        3LDK   14年9ヶ月   \n",
       "25551  山手線\\t恵比寿駅\\t徒歩9分\\t\\t日比谷線\\t広尾駅\\t徒歩9分\\t\\t東急東横線\\t代...  1LDK+S(納戸)  13年11ヶ月   \n",
       "30539                山手線\\t恵比寿駅\\t徒歩6分\\t\\t日比谷線\\t恵比寿駅\\t徒歩6分  4LDK+S(納戸)   22年7ヶ月   \n",
       "\n",
       "      direction      area   floor_stories  \\\n",
       "1501         南東  163.62m2          3階／3階建   \n",
       "1771         南西  232.01m2             2階建   \n",
       "5093          西  217.29m2    9階／9階建（地下2階）   \n",
       "5775         北西   20.53m2        10階／15階建   \n",
       "8706          東  138.99m2         7階／24階建   \n",
       "9008          南  223.71m2             3階建   \n",
       "11367        南東  192.43m2   9階／10階建（地下1階）   \n",
       "11958         南   221.3m2        11階／13階建   \n",
       "15417         北     125m2          7階／7階建   \n",
       "16847         東   221.3m2  11階／13階建（地下2階）   \n",
       "17324        北東  171.43m2    3階／4階建（地下1階）   \n",
       "20024        南西  176.87m2  25階／25階建（地下1階）   \n",
       "20643         南  151.81m2    5階／9階建（地下2階）   \n",
       "20989        北東  167.99m2    1階／8階建（地下1階）   \n",
       "25551         南  144.35m2   9階／10階建（地下1階）   \n",
       "30539         南   341.3m2  12階／13階建（地下2階）   \n",
       "\n",
       "                                                bathroom  \\\n",
       "1501   専用バス／\\t専用トイレ／\\tバス・トイレ別／\\tシャワー／\\t追焚機能／\\t浴室乾燥機\\t...   \n",
       "1771                専用バス／\\t専用トイレ／\\tシャワー／\\t温水洗浄便座／\\t洗面台独立   \n",
       "5093   専用バス／\\t専用トイレ／\\tバス・トイレ別／\\tシャワー／\\t追焚機能／\\t浴室乾燥機\\t...   \n",
       "5775    専用バス／\\t専用トイレ／\\tバス・トイレ別／\\tシャワー／\\t浴室乾燥機\\t／\\t温水洗浄便座   \n",
       "8706   専用バス／\\t専用トイレ／\\tシャワー／\\t追焚機能／\\t浴室乾燥機\\t／\\t温水洗浄便座／...   \n",
       "9008   専用バス／\\t専用トイレ／\\tバス・トイレ別／\\t追焚機能／\\t浴室乾燥機\\t／\\t洗面台独...   \n",
       "11367       バス・トイレ別／\\tシャワー／\\t追焚機能／\\t温水洗浄便座／\\t洗面台独立／\\t脱衣所   \n",
       "11958  専用バス／\\t専用トイレ／\\tシャワー／\\t浴室乾燥機\\t／\\t温水洗浄便座／\\t洗面台独立...   \n",
       "15417  専用バス／\\t専用トイレ／\\tバス・トイレ別／\\tシャワー／\\t追焚機能／\\t浴室乾燥機\\t...   \n",
       "16847  専用バス／\\t専用トイレ／\\tバス・トイレ別／\\tシャワー／\\t追焚機能／\\t温水洗浄便座／...   \n",
       "17324  専用バス／\\t専用トイレ／\\tバス・トイレ別／\\tシャワー／\\t追焚機能／\\t浴室乾燥機\\t...   \n",
       "20024  専用バス／\\t専用トイレ／\\tバス・トイレ別／\\tシャワー／\\t追焚機能／\\t浴室乾燥機\\t...   \n",
       "20643  専用バス／\\t専用トイレ／\\tバス・トイレ別／\\tシャワー／\\t追焚機能／\\t浴室乾燥機\\t...   \n",
       "20989  専用バス／\\t専用トイレ／\\tシャワー／\\t追焚機能／\\t浴室乾燥機\\t／\\t温水洗浄便座／...   \n",
       "25551  専用バス／\\t専用トイレ／\\tバス・トイレ別／\\tシャワー／\\t追焚機能／\\t浴室乾燥機\\t...   \n",
       "30539                                             温水洗浄便座   \n",
       "\n",
       "                                                 kitchen  \\\n",
       "1501                             ガスコンロ／\\tシステムキッチン\\t／\\t給湯   \n",
       "1771                             ガスコンロ／\\tシステムキッチン\\t／\\t給湯   \n",
       "5093   IHコンロ\\t／\\tコンロ3口／\\tシステムキッチン\\t／\\tカウンターキッチン\\t／\\tL...   \n",
       "5775                     ガスコンロ／\\tコンロ2口／\\tシステムキッチン\\t／\\t給湯   \n",
       "8706            ガスコンロ／\\tコンロ3口／\\tシステムキッチン\\t／\\t給湯／\\t独立キッチン   \n",
       "9008                 ガスコンロ／\\tコンロ3口／\\tシステムキッチン\\t／\\tL字キッチン   \n",
       "11367                                 ガスコンロ／\\tコンロ3口／\\t給湯   \n",
       "11958         ガスコンロ／\\tコンロ4口以上／\\tシステムキッチン\\t／\\t給湯／\\t独立キッチン   \n",
       "15417  ガスコンロ／\\tコンロ3口／\\tシステムキッチン\\t／\\t給湯／\\t独立キッチン／\\tL字キッチン   \n",
       "16847                          コンロ4口以上／\\tシステムキッチン\\t／\\t給湯   \n",
       "17324                          IHコンロ\\t／\\tシステムキッチン\\t／\\t給湯   \n",
       "20024             ガスコンロ／\\tコンロ3口／\\tシステムキッチン\\t／\\tカウンターキッチン   \n",
       "20643           IHコンロ\\t／\\tコンロ3口／\\tシステムキッチン\\t／\\tカウンターキッチン   \n",
       "20989                            ガスコンロ／\\tシステムキッチン\\t／\\t給湯   \n",
       "25551      ガスコンロ／\\tコンロ3口／\\tシステムキッチン\\t／\\tカウンターキッチン\\t／\\t給湯   \n",
       "30539                                         給湯／\\t冷蔵庫あり   \n",
       "\n",
       "                                       internet  \\\n",
       "1501            光ファイバー／\\tCATV／\\tCSアンテナ／\\tBSアンテナ   \n",
       "1771                              光ファイバー／\\tCATV   \n",
       "5093                                  インターネット対応   \n",
       "5775   インターネット対応／\\t光ファイバー／\\tCATV／\\tインターネット使用料無料   \n",
       "8706         インターネット対応／\\tCATV／\\tCSアンテナ／\\tBSアンテナ   \n",
       "9008                                        NaN   \n",
       "11367                        インターネット対応／\\t光ファイバー   \n",
       "11958                 インターネット対応／\\t光ファイバー／\\tCATV   \n",
       "15417                        インターネット対応／\\t光ファイバー   \n",
       "16847                             光ファイバー／\\tCATV   \n",
       "17324           光ファイバー／\\tCATV／\\tCSアンテナ／\\tBSアンテナ   \n",
       "20024                           光ファイバー／\\tBSアンテナ   \n",
       "20643                                 インターネット対応   \n",
       "20989                             光ファイバー／\\tCATV   \n",
       "25551      インターネット対応／\\t光ファイバー／\\tCSアンテナ／\\tBSアンテナ   \n",
       "30539                                      CATV   \n",
       "\n",
       "                                               equipment  \\\n",
       "1501   エアコン付\\tウォークインクローゼット\\tシューズボックス／\\tバルコニー／\\tフローリング...   \n",
       "1771               エアコン付\\tウォークインクローゼット\\tフローリング／\\t室内洗濯機置場   \n",
       "5093   エアコン付／\\t床暖房\\tウォークインクローゼット\\tシューズボックス／\\tバルコニー／\\t...   \n",
       "5775   エアコン付\\tシューズボックス／\\tバルコニー／\\tフローリング／\\t24時間換気システム\\...   \n",
       "8706   エアコン付\\tトランクルーム\\t／\\tウォークインクローゼット\\tバルコニー／\\t24時間換...   \n",
       "9008   エアコン付\\tウォークインクローゼット\\tシューズボックス／\\tバルコニー／\\tフローリング...   \n",
       "11367  エアコン付\\tロフト付き／\\tバルコニー／\\tフローリング／\\t2面採光／\\t室内洗濯機置場...   \n",
       "11958  エアコン付\\tトランクルーム\\t／\\tウォークインクローゼット\\tシューズボックス／\\tバル...   \n",
       "15417  エアコン付\\tウォークインクローゼット\\tシューズボックス／\\tロフト付き／\\tバルコニー／...   \n",
       "16847  冷房／\\tエアコン付\\tシューズボックス／\\tバルコニー／\\tフローリング／\\t24時間換気...   \n",
       "17324  エアコン付\\tトランクルーム\\t／\\tウォークインクローゼット\\tシューズボックス／\\tバル...   \n",
       "20024  冷房／\\tエアコン付／\\t床暖房\\tウォークインクローゼット\\tシューズボックス／\\tバルコ...   \n",
       "20643  エアコン付／\\t床暖房\\tウォークインクローゼット\\tシューズボックス／\\tバルコニー／\\t...   \n",
       "20989  エアコン付\\tトランクルーム\\t／\\tウォークインクローゼット\\tシューズボックス／\\tバル...   \n",
       "25551  エアコン付\\tシューズボックス／\\tバルコニー／\\tルーフバルコニー\\t／\\tフローリング／...   \n",
       "30539                                    トランクルーム\\tエレベーター   \n",
       "\n",
       "                                        parking  \\\n",
       "1501                       駐車場\\t空有\\t57,000円(税込)   \n",
       "1771                                    駐車場\\t空有   \n",
       "5093                      駐車場\\t空有(43台)\\t48,600円   \n",
       "5775                 駐輪場\\t空有\\t駐車場\\t無\\tバイク置き場\\t無   \n",
       "8706   駐車場\\t空有\\t54,000円(税込)\\t駐輪場\\t空有\\tバイク置き場\\t無   \n",
       "9008           駐車場\\t空有\\t0円\\t駐輪場\\t空有\\tバイク置き場\\t空有   \n",
       "11367                          駐車場\\t空有\\t43,200円   \n",
       "11958                駐輪場\\t空有\\t駐車場\\t無\\tバイク置き場\\t無   \n",
       "15417  駐車場\\t空有\\t54,000円(税込)\\t駐輪場\\t空有\\tバイク置き場\\t無   \n",
       "16847            駐車場\\t空有\\t64,800円\\t(※サイズ・空き要確認)   \n",
       "17324                      駐車場\\t空有\\t50,000円(税込)   \n",
       "20024       駐車場\\t空有\\t48,000円\\t(月額48000円～50000円)   \n",
       "20643                     駐車場\\t空有(43台)\\t48,600円   \n",
       "20989                                   駐車場\\t空有   \n",
       "25551                                    駐車場\\t無   \n",
       "30539                                    駐車場\\t無   \n",
       "\n",
       "                                                neighbor         material  \\\n",
       "1501                                                 NaN     RC（鉄筋コンクリート）   \n",
       "1771                                                 NaN               木造   \n",
       "5093   【飲食店】 959m\\t【飲食店】 611m\\t【スーパー】 417m\\t【スーパー】 65...     RC（鉄筋コンクリート）   \n",
       "5775   【スーパー】 432m\\t【スーパー】 570m\\t【コンビニ】 43m\\t【コンビニ】 2...     RC（鉄筋コンクリート）   \n",
       "8706   【スーパー】 558m\\t【スーパー】 535m\\t【コンビニ】 330m\\t【コンビニ】 ...              鉄骨造   \n",
       "9008   【スーパー】 538m\\t【コンビニ】 390m\\t【コンビニ】 454m\\t【スーパー】 ...               木造   \n",
       "11367  【スーパー】 170m\\t【スーパー】 502m\\t【コンビニ】 14m\\t【コンビニ】 1...  SRC（鉄骨鉄筋コンクリート）   \n",
       "11958   【スーパー】 729m\\t【コンビニ】 177m\\t【スーパー】 363m\\t【病院】 727m     RC（鉄筋コンクリート）   \n",
       "15417  【スーパー】 217m\\t【スーパー】 541m\\t【コンビニ】 256m\\t【コンビニ】 ...     RC（鉄筋コンクリート）   \n",
       "16847  【デパート】 964m\\t【スーパー】 752m\\t【スーパー】 989m\\t【スーパー】 ...     RC（鉄筋コンクリート）   \n",
       "17324     【コンビニ】 400m\\t【スーパー】 340m\\t【公園】 120m\\t【銀行】 420m     RC（鉄筋コンクリート）   \n",
       "20024  【小学校】 1027m\\t【スーパー】 1072m\\t【スーパー】 1159m\\t【レンタル...     RC（鉄筋コンクリート）   \n",
       "20643  【飲食店】 959m\\t【飲食店】 611m\\t【スーパー】 417m\\t【スーパー】 65...     RC（鉄筋コンクリート）   \n",
       "20989  【コンビニ】 300m\\t【スーパー】 540m\\t【ドラッグストア】 700m\\t【公園】...     RC（鉄筋コンクリート）   \n",
       "25551                                                NaN  SRC（鉄骨鉄筋コンクリート）   \n",
       "30539                                                NaN     RC（鉄筋コンクリート）   \n",
       "\n",
       "                     contract  \n",
       "1501   5年間\\t※この物件は\\t定期借家\\tです。  \n",
       "1771   4年間\\t※この物件は\\t定期借家\\tです。  \n",
       "5093   3年間\\t※この物件は\\t定期借家\\tです。  \n",
       "5775                      2年間  \n",
       "8706   3年間\\t※この物件は\\t定期借家\\tです。  \n",
       "9008   3年間\\t※この物件は\\t定期借家\\tです。  \n",
       "11367                     2年間  \n",
       "11958  3年間\\t※この物件は\\t定期借家\\tです。  \n",
       "15417  2年間\\t※この物件は\\t定期借家\\tです。  \n",
       "16847  3年間\\t※この物件は\\t定期借家\\tです。  \n",
       "17324  5年間\\t※この物件は\\t定期借家\\tです。  \n",
       "20024  4年間\\t※この物件は\\t定期借家\\tです。  \n",
       "20643  3年間\\t※この物件は\\t定期借家\\tです。  \n",
       "20989  3年間\\t※この物件は\\t定期借家\\tです。  \n",
       "25551                     2年間  \n",
       "30539  3年間\\t※この物件は\\t定期借家\\tです。  "
      ]
     },
     "execution_count": 403,
     "metadata": {},
     "output_type": "execute_result"
    }
   ],
   "source": [
    "train_df[train_df['target'] > 1000000]"
   ]
  },
  {
   "cell_type": "code",
   "execution_count": 405,
   "metadata": {
    "ExecuteTime": {
     "end_time": "2019-10-18T08:57:29.437977Z",
     "start_time": "2019-10-18T08:57:29.057748Z"
    }
   },
   "outputs": [
    {
     "data": {
      "text/plain": [
       "<matplotlib.axes._subplots.AxesSubplot at 0x7f07815f9310>"
      ]
     },
     "execution_count": 405,
     "metadata": {},
     "output_type": "execute_result"
    },
    {
     "data": {
      "image/png": "[encoded data removed]",
      "text/plain": [
       "<Figure size 432x288 with 1 Axes>"
      ]
     },
     "metadata": {
      "needs_background": "light"
     },
     "output_type": "display_data"
    }
   ],
   "source": [
    "# looks like a log-normal distribution\n",
    "sns.distplot(np.log(train_df['target']))"
   ]
  },
  {
   "cell_type": "markdown",
   "metadata": {
    "ExecuteTime": {
     "end_time": "2019-10-18T06:31:15.076870Z",
     "start_time": "2019-10-18T06:31:15.041699Z"
    }
   },
   "source": [
    "## age : to float value  \n",
    "ex) \\\n",
    "\"3年9ヶ月\" -> 3.75 \\\n",
    "\"新築\" -> 0"
   ]
  },
  {
   "cell_type": "code",
   "execution_count": 239,
   "metadata": {
    "ExecuteTime": {
     "end_time": "2019-10-18T07:59:35.523231Z",
     "start_time": "2019-10-18T07:59:35.502280Z"
    }
   },
   "outputs": [
    {
     "data": {
      "text/plain": [
       "0年1ヶ月      1885\n",
       "新築         1739\n",
       "0年0ヶ月      1375\n",
       "0年2ヶ月      1273\n",
       "0年3ヶ月       997\n",
       "           ... \n",
       "61年9ヶ月        1\n",
       "67年7ヶ月        1\n",
       "520年5ヶ月       1\n",
       "57年6ヶ月        1\n",
       "60年4ヶ月        1\n",
       "Name: age, Length: 771, dtype: int64"
      ]
     },
     "execution_count": 239,
     "metadata": {},
     "output_type": "execute_result"
    }
   ],
   "source": [
    "df[\"age\"].value_counts()"
   ]
  },
  {
   "cell_type": "code",
   "execution_count": 240,
   "metadata": {
    "ExecuteTime": {
     "end_time": "2019-10-18T07:59:35.759220Z",
     "start_time": "2019-10-18T07:59:35.746878Z"
    },
    "scrolled": true
   },
   "outputs": [],
   "source": [
    "def age_to_float(age):\n",
    "\n",
    "    year = 0\n",
    "    month = 0\n",
    "\n",
    "    # 新築 -> 0\n",
    "    if age == \"新築\":\n",
    "        year = 0\n",
    "        month = 0\n",
    "\n",
    "    else:\n",
    "        age = age.replace(\"ヶ月\", \"\")\n",
    "        year_month = age.split(\"年\")\n",
    "\n",
    "        # '3年' -> 3\n",
    "        if len(year_month) == 1:\n",
    "            year = int(year_month[0])\n",
    "            month = 0\n",
    "\n",
    "        # '3年9ヶ月' -> 3.75\n",
    "        if len(year_month) == 2:\n",
    "            year = int(year_month[0])\n",
    "            month = int(year_month[1])\n",
    "\n",
    "    # upper limit is 70.\n",
    "    if year > 70:\n",
    "        year = 70\n",
    "        month = 0\n",
    "\n",
    "    return year + (month / 12)"
   ]
  },
  {
   "cell_type": "code",
   "execution_count": 241,
   "metadata": {
    "ExecuteTime": {
     "end_time": "2019-10-18T07:59:36.533532Z",
     "start_time": "2019-10-18T07:59:36.423193Z"
    }
   },
   "outputs": [],
   "source": [
    "age = df[\"age\"].map(age_to_float)"
   ]
  },
  {
   "cell_type": "code",
   "execution_count": 242,
   "metadata": {
    "ExecuteTime": {
     "end_time": "2019-10-18T07:59:36.771587Z",
     "start_time": "2019-10-18T07:59:36.753987Z"
    }
   },
   "outputs": [
    {
     "data": {
      "text/plain": [
       "0     10535\n",
       "11     2455\n",
       "12     2441\n",
       "2      2190\n",
       "13     2159\n",
       "      ...  \n",
       "69        5\n",
       "65        5\n",
       "68        3\n",
       "66        3\n",
       "67        1\n",
       "Name: age, Length: 71, dtype: int64"
      ]
     },
     "execution_count": 242,
     "metadata": {},
     "output_type": "execute_result"
    }
   ],
   "source": [
    "age.astype(int).value_counts()"
   ]
  },
  {
   "cell_type": "code",
   "execution_count": 243,
   "metadata": {
    "ExecuteTime": {
     "end_time": "2019-10-18T07:59:37.578306Z",
     "start_time": "2019-10-18T07:59:37.093138Z"
    }
   },
   "outputs": [
    {
     "data": {
      "text/plain": [
       "<matplotlib.axes._subplots.AxesSubplot at 0x7f0797c556d0>"
      ]
     },
     "execution_count": 243,
     "metadata": {},
     "output_type": "execute_result"
    },
    {
     "data": {
      "image/png": "[encoded data removed]",
      "text/plain": [
       "<Figure size 432x288 with 1 Axes>"
      ]
     },
     "metadata": {
      "needs_background": "light"
     },
     "output_type": "display_data"
    }
   ],
   "source": [
    "sns.distplot(age)"
   ]
  },
  {
   "cell_type": "code",
   "execution_count": 386,
   "metadata": {
    "ExecuteTime": {
     "end_time": "2019-10-18T08:53:18.771819Z",
     "start_time": "2019-10-18T08:53:18.262166Z"
    }
   },
   "outputs": [
    {
     "data": {
      "text/plain": [
       "<matplotlib.axes._subplots.AxesSubplot at 0x7f0783903c10>"
      ]
     },
     "execution_count": 386,
     "metadata": {},
     "output_type": "execute_result"
    },
    {
     "data": {
      "image/png": "[encoded data removed]",
      "text/plain": [
       "<Figure size 432x288 with 1 Axes>"
      ]
     },
     "metadata": {
      "needs_background": "light"
     },
     "output_type": "display_data"
    }
   ],
   "source": [
    "# Little correlation... \n",
    "sns.scatterplot(x=age, y=np.log(df[\"target\"]))"
   ]
  },
  {
   "cell_type": "markdown",
   "metadata": {
    "ExecuteTime": {
     "end_time": "2019-10-18T06:59:10.877671Z",
     "start_time": "2019-10-18T06:59:10.840504Z"
    }
   },
   "source": [
    "## area : to float value\n",
    "ex) \\\n",
    "'64.76m2' -> 64.76"
   ]
  },
  {
   "cell_type": "code",
   "execution_count": 245,
   "metadata": {
    "ExecuteTime": {
     "end_time": "2019-10-18T07:59:40.402863Z",
     "start_time": "2019-10-18T07:59:40.372193Z"
    }
   },
   "outputs": [
    {
     "data": {
      "text/plain": [
       "20m2        486\n",
       "18m2        379\n",
       "40m2        368\n",
       "21m2        331\n",
       "30m2        320\n",
       "           ... \n",
       "64.76m2       1\n",
       "215.42m2      1\n",
       "90.22m2       1\n",
       "148.31m2      1\n",
       "259.31m2      1\n",
       "Name: area, Length: 6721, dtype: int64"
      ]
     },
     "execution_count": 245,
     "metadata": {},
     "output_type": "execute_result"
    }
   ],
   "source": [
    "df['area'].value_counts()"
   ]
  },
  {
   "cell_type": "code",
   "execution_count": 246,
   "metadata": {
    "ExecuteTime": {
     "end_time": "2019-10-18T07:59:40.883947Z",
     "start_time": "2019-10-18T07:59:40.878008Z"
    }
   },
   "outputs": [],
   "source": [
    "def area_to_float(area):\n",
    "    area = area.replace('m2', '')\n",
    "    area = float(area)\n",
    "    \n",
    "    # upper limit is 200\n",
    "    if area > 200:\n",
    "        area = 200\n",
    "    return float(area)"
   ]
  },
  {
   "cell_type": "code",
   "execution_count": 247,
   "metadata": {
    "ExecuteTime": {
     "end_time": "2019-10-18T07:59:41.693330Z",
     "start_time": "2019-10-18T07:59:41.633290Z"
    }
   },
   "outputs": [],
   "source": [
    "area = df['area'].map(area_to_float)"
   ]
  },
  {
   "cell_type": "code",
   "execution_count": 248,
   "metadata": {
    "ExecuteTime": {
     "end_time": "2019-10-18T07:59:42.063507Z",
     "start_time": "2019-10-18T07:59:42.051330Z"
    }
   },
   "outputs": [
    {
     "data": {
      "text/plain": [
       "25     6696\n",
       "20     3145\n",
       "26     2490\n",
       "40     2399\n",
       "21     2314\n",
       "       ... \n",
       "137       1\n",
       "168       1\n",
       "199       1\n",
       "135       1\n",
       "163       1\n",
       "Name: area, Length: 177, dtype: int64"
      ]
     },
     "execution_count": 248,
     "metadata": {},
     "output_type": "execute_result"
    }
   ],
   "source": [
    "area.astype(int).value_counts()"
   ]
  },
  {
   "cell_type": "code",
   "execution_count": 249,
   "metadata": {
    "ExecuteTime": {
     "end_time": "2019-10-18T07:59:43.337738Z",
     "start_time": "2019-10-18T07:59:42.849607Z"
    }
   },
   "outputs": [
    {
     "data": {
      "text/plain": [
       "<matplotlib.axes._subplots.AxesSubplot at 0x7f0797614310>"
      ]
     },
     "execution_count": 249,
     "metadata": {},
     "output_type": "execute_result"
    },
    {
     "data": {
      "image/png": "[encoded data removed]",
      "text/plain": [
       "<Figure size 432x288 with 1 Axes>"
      ]
     },
     "metadata": {
      "needs_background": "light"
     },
     "output_type": "display_data"
    }
   ],
   "source": [
    "sns.distplot(area)"
   ]
  },
  {
   "cell_type": "code",
   "execution_count": 385,
   "metadata": {
    "ExecuteTime": {
     "end_time": "2019-10-18T08:53:12.266733Z",
     "start_time": "2019-10-18T08:53:11.756737Z"
    }
   },
   "outputs": [
    {
     "data": {
      "text/plain": [
       "<matplotlib.axes._subplots.AxesSubplot at 0x7f078399b890>"
      ]
     },
     "execution_count": 385,
     "metadata": {},
     "output_type": "execute_result"
    },
    {
     "data": {
      "image/png": "[encoded data removed]",
      "text/plain": [
       "<Figure size 432x288 with 1 Axes>"
      ]
     },
     "metadata": {
      "needs_background": "light"
     },
     "output_type": "display_data"
    }
   ],
   "source": [
    "# relation between area and log(target)\n",
    "# looks good!\n",
    "sns.scatterplot(x=area, y=np.log(df[\"target\"]))"
   ]
  },
  {
   "cell_type": "markdown",
   "metadata": {
    "ExecuteTime": {
     "end_time": "2019-10-18T07:19:42.989935Z",
     "start_time": "2019-10-18T07:19:42.958180Z"
    }
   },
   "source": [
    "## floor_stories : floor (int) + stories(int)\n",
    "ex) \\\n",
    "\"12階／13階建\" -> { floor: 12, stories: 13 }"
   ]
  },
  {
   "cell_type": "code",
   "execution_count": 251,
   "metadata": {
    "ExecuteTime": {
     "end_time": "2019-10-18T07:59:51.017325Z",
     "start_time": "2019-10-18T07:59:50.994169Z"
    },
    "scrolled": false
   },
   "outputs": [
    {
     "data": {
      "text/plain": [
       "2階／2階建            5706\n",
       "1階／2階建            5519\n",
       "2階／3階建            4030\n",
       "3階／3階建            3541\n",
       "1階／3階建            3325\n",
       "                  ... \n",
       "20階／41階建             1\n",
       "12階／18階建（地下1階）       1\n",
       "16階／49階建（地下2階）       1\n",
       "20階／33階建（地下2階）       1\n",
       "37階／47階建             1\n",
       "Name: floor_stories, Length: 1402, dtype: int64"
      ]
     },
     "execution_count": 251,
     "metadata": {},
     "output_type": "execute_result"
    }
   ],
   "source": [
    "df['floor_stories'].value_counts()"
   ]
  },
  {
   "cell_type": "code",
   "execution_count": 252,
   "metadata": {
    "ExecuteTime": {
     "end_time": "2019-10-18T08:00:00.050980Z",
     "start_time": "2019-10-18T07:59:59.804196Z"
    }
   },
   "outputs": [
    {
     "data": {
      "text/plain": [
       "99             ／3階建\n",
       "122            ／8階建\n",
       "583           ／12階建\n",
       "671      ／3階建（地下1階）\n",
       "814            ／2階建\n",
       "            ...    \n",
       "30529    ／3階建（地下1階）\n",
       "30781          ／2階建\n",
       "30826          ／2階建\n",
       "31073          ／3階建\n",
       "31184          ／2階建\n",
       "Name: floor_stories, Length: 233, dtype: object"
      ]
     },
     "execution_count": 252,
     "metadata": {},
     "output_type": "execute_result"
    }
   ],
   "source": [
    "df['floor_stories'][df['floor_stories'].str.split('／', expand=True).iloc[:, 0] == '']"
   ]
  },
  {
   "cell_type": "code",
   "execution_count": 253,
   "metadata": {
    "ExecuteTime": {
     "end_time": "2019-10-18T08:00:06.226639Z",
     "start_time": "2019-10-18T08:00:06.184489Z"
    }
   },
   "outputs": [
    {
     "data": {
      "text/html": [
       "<div>\n",
       "<style scoped>\n",
       "    .dataframe tbody tr th:only-of-type {\n",
       "        vertical-align: middle;\n",
       "    }\n",
       "\n",
       "    .dataframe tbody tr th {\n",
       "        vertical-align: top;\n",
       "    }\n",
       "\n",
       "    .dataframe thead th {\n",
       "        text-align: right;\n",
       "    }\n",
       "</style>\n",
       "<table border=\"1\" class=\"dataframe\">\n",
       "  <thead>\n",
       "    <tr style=\"text-align: right;\">\n",
       "      <th></th>\n",
       "      <th>access</th>\n",
       "      <th>address</th>\n",
       "      <th>age</th>\n",
       "      <th>area</th>\n",
       "      <th>bathroom</th>\n",
       "      <th>contract</th>\n",
       "      <th>direction</th>\n",
       "      <th>equipment</th>\n",
       "      <th>floor_stories</th>\n",
       "      <th>id</th>\n",
       "      <th>internet</th>\n",
       "      <th>kitchen</th>\n",
       "      <th>layout</th>\n",
       "      <th>material</th>\n",
       "      <th>neighbor</th>\n",
       "      <th>parking</th>\n",
       "      <th>target</th>\n",
       "    </tr>\n",
       "  </thead>\n",
       "  <tbody>\n",
       "    <tr>\n",
       "      <td>9204</td>\n",
       "      <td>都営新宿線\\t船堀駅\\t徒歩11分\\t\\t東西線\\t西葛西駅\\t徒歩20分\\t\\t東西線\\t...</td>\n",
       "      <td>東京都江戸川区宇喜田町1469-35</td>\n",
       "      <td>0年4ヶ月</td>\n",
       "      <td>94.91m2</td>\n",
       "      <td>バス・トイレ別／\\tシャワー／\\t追焚機能／\\t浴室乾燥機\\t／\\t温水洗浄便座／\\t洗面台...</td>\n",
       "      <td>2年間</td>\n",
       "      <td>南西</td>\n",
       "      <td>バルコニー／\\tルーフバルコニー\\t／\\tフローリング</td>\n",
       "      <td>NaN</td>\n",
       "      <td>40675</td>\n",
       "      <td>NaN</td>\n",
       "      <td>システムキッチン\\t／\\tL字キッチン</td>\n",
       "      <td>3LDK</td>\n",
       "      <td>鉄骨造</td>\n",
       "      <td>NaN</td>\n",
       "      <td>NaN</td>\n",
       "      <td>NaN</td>\n",
       "    </tr>\n",
       "  </tbody>\n",
       "</table>\n",
       "</div>"
      ],
      "text/plain": [
       "                                                 access             address  \\\n",
       "9204  都営新宿線\\t船堀駅\\t徒歩11分\\t\\t東西線\\t西葛西駅\\t徒歩20分\\t\\t東西線\\t...  東京都江戸川区宇喜田町1469-35   \n",
       "\n",
       "        age     area                                           bathroom  \\\n",
       "9204  0年4ヶ月  94.91m2  バス・トイレ別／\\tシャワー／\\t追焚機能／\\t浴室乾燥機\\t／\\t温水洗浄便座／\\t洗面台...   \n",
       "\n",
       "     contract direction                    equipment floor_stories     id  \\\n",
       "9204      2年間        南西  バルコニー／\\tルーフバルコニー\\t／\\tフローリング           NaN  40675   \n",
       "\n",
       "     internet              kitchen layout material neighbor parking  target  \n",
       "9204      NaN  システムキッチン\\t／\\tL字キッチン   3LDK      鉄骨造      NaN     NaN     NaN  "
      ]
     },
     "execution_count": 253,
     "metadata": {},
     "output_type": "execute_result"
    }
   ],
   "source": [
    "df[df['floor_stories'].isna()]"
   ]
  },
  {
   "cell_type": "code",
   "execution_count": 274,
   "metadata": {
    "ExecuteTime": {
     "end_time": "2019-10-18T08:14:10.292961Z",
     "start_time": "2019-10-18T08:14:10.273000Z"
    }
   },
   "outputs": [],
   "source": [
    "def floor_stories(df):\n",
    "    floor = df['floor_stories'].str.split('／', expand=True).iloc[:, 0]\n",
    "    stories = df['floor_stories'].str.split('／', expand=True).iloc[:, 1]\n",
    "    \n",
    "    # \"xx階建\"のみの場合は1階にする\n",
    "    floor[floor.str.contains('階建').fillna(False)] = '1'\n",
    "    floor = floor.str.replace(r'（地下\\d階）', '')\n",
    "    floor = floor.str.replace('地下', '-')\n",
    "    floor = floor.str.replace('階', '')\n",
    "\n",
    "    # fill 2 in case of nan\n",
    "    floor[floor.isna()] = '2'\n",
    "    floor[floor==''] = '2'\n",
    "    floor = floor.astype(int)\n",
    "    \n",
    "    stories = stories.str.replace(r'（地下\\d階）', '').str.replace('階建', '')\n",
    "    stories[(stories == None) | (stories.isna()) ] = 2 \n",
    "    stories = stories.astype(int)\n",
    "    \n",
    "    return floor, stories"
   ]
  },
  {
   "cell_type": "code",
   "execution_count": 275,
   "metadata": {
    "ExecuteTime": {
     "end_time": "2019-10-18T08:14:12.683414Z",
     "start_time": "2019-10-18T08:14:11.400257Z"
    }
   },
   "outputs": [],
   "source": [
    "floor, stories = floor_stories(df)\n",
    "df.loc[:, 'floor'] = floor\n",
    "df.loc[:, 'stories'] = stories"
   ]
  },
  {
   "cell_type": "code",
   "execution_count": 276,
   "metadata": {
    "ExecuteTime": {
     "end_time": "2019-10-18T08:14:13.932515Z",
     "start_time": "2019-10-18T08:14:13.910948Z"
    }
   },
   "outputs": [
    {
     "data": {
      "text/html": [
       "<div>\n",
       "<style scoped>\n",
       "    .dataframe tbody tr th:only-of-type {\n",
       "        vertical-align: middle;\n",
       "    }\n",
       "\n",
       "    .dataframe tbody tr th {\n",
       "        vertical-align: top;\n",
       "    }\n",
       "\n",
       "    .dataframe thead th {\n",
       "        text-align: right;\n",
       "    }\n",
       "</style>\n",
       "<table border=\"1\" class=\"dataframe\">\n",
       "  <thead>\n",
       "    <tr style=\"text-align: right;\">\n",
       "      <th></th>\n",
       "      <th>floor_stories</th>\n",
       "      <th>floor</th>\n",
       "      <th>stories</th>\n",
       "      <th>target</th>\n",
       "    </tr>\n",
       "  </thead>\n",
       "  <tbody>\n",
       "    <tr>\n",
       "      <td>1203</td>\n",
       "      <td>2階／1階建</td>\n",
       "      <td>2</td>\n",
       "      <td>1</td>\n",
       "      <td>110000.0</td>\n",
       "    </tr>\n",
       "    <tr>\n",
       "      <td>2611</td>\n",
       "      <td>3階</td>\n",
       "      <td>3</td>\n",
       "      <td>2</td>\n",
       "      <td>100000.0</td>\n",
       "    </tr>\n",
       "    <tr>\n",
       "      <td>11488</td>\n",
       "      <td>5階</td>\n",
       "      <td>5</td>\n",
       "      <td>2</td>\n",
       "      <td>176000.0</td>\n",
       "    </tr>\n",
       "    <tr>\n",
       "      <td>14238</td>\n",
       "      <td>10階／8階建</td>\n",
       "      <td>10</td>\n",
       "      <td>8</td>\n",
       "      <td>62000.0</td>\n",
       "    </tr>\n",
       "    <tr>\n",
       "      <td>20743</td>\n",
       "      <td>7階／2階建</td>\n",
       "      <td>7</td>\n",
       "      <td>2</td>\n",
       "      <td>89000.0</td>\n",
       "    </tr>\n",
       "    <tr>\n",
       "      <td>21504</td>\n",
       "      <td>4階／2階建</td>\n",
       "      <td>4</td>\n",
       "      <td>2</td>\n",
       "      <td>103000.0</td>\n",
       "    </tr>\n",
       "    <tr>\n",
       "      <td>28317</td>\n",
       "      <td>3階</td>\n",
       "      <td>3</td>\n",
       "      <td>2</td>\n",
       "      <td>161800.0</td>\n",
       "    </tr>\n",
       "    <tr>\n",
       "      <td>956</td>\n",
       "      <td>3階／2階建</td>\n",
       "      <td>3</td>\n",
       "      <td>2</td>\n",
       "      <td>NaN</td>\n",
       "    </tr>\n",
       "    <tr>\n",
       "      <td>983</td>\n",
       "      <td>2階／1階建</td>\n",
       "      <td>2</td>\n",
       "      <td>1</td>\n",
       "      <td>NaN</td>\n",
       "    </tr>\n",
       "    <tr>\n",
       "      <td>3154</td>\n",
       "      <td>13階／4階建（地下1階）</td>\n",
       "      <td>13</td>\n",
       "      <td>4</td>\n",
       "      <td>NaN</td>\n",
       "    </tr>\n",
       "    <tr>\n",
       "      <td>5701</td>\n",
       "      <td>4階</td>\n",
       "      <td>4</td>\n",
       "      <td>2</td>\n",
       "      <td>NaN</td>\n",
       "    </tr>\n",
       "    <tr>\n",
       "      <td>5794</td>\n",
       "      <td>4階／2階建</td>\n",
       "      <td>4</td>\n",
       "      <td>2</td>\n",
       "      <td>NaN</td>\n",
       "    </tr>\n",
       "    <tr>\n",
       "      <td>5931</td>\n",
       "      <td>3階／2階建</td>\n",
       "      <td>3</td>\n",
       "      <td>2</td>\n",
       "      <td>NaN</td>\n",
       "    </tr>\n",
       "    <tr>\n",
       "      <td>7414</td>\n",
       "      <td>4階／2階建</td>\n",
       "      <td>4</td>\n",
       "      <td>2</td>\n",
       "      <td>NaN</td>\n",
       "    </tr>\n",
       "    <tr>\n",
       "      <td>7627</td>\n",
       "      <td>4階／3階建（地下1階）</td>\n",
       "      <td>4</td>\n",
       "      <td>3</td>\n",
       "      <td>NaN</td>\n",
       "    </tr>\n",
       "    <tr>\n",
       "      <td>8623</td>\n",
       "      <td>4階</td>\n",
       "      <td>4</td>\n",
       "      <td>2</td>\n",
       "      <td>NaN</td>\n",
       "    </tr>\n",
       "    <tr>\n",
       "      <td>9095</td>\n",
       "      <td>8階</td>\n",
       "      <td>8</td>\n",
       "      <td>2</td>\n",
       "      <td>NaN</td>\n",
       "    </tr>\n",
       "    <tr>\n",
       "      <td>9206</td>\n",
       "      <td>5階</td>\n",
       "      <td>5</td>\n",
       "      <td>2</td>\n",
       "      <td>NaN</td>\n",
       "    </tr>\n",
       "    <tr>\n",
       "      <td>14821</td>\n",
       "      <td>3階</td>\n",
       "      <td>3</td>\n",
       "      <td>2</td>\n",
       "      <td>NaN</td>\n",
       "    </tr>\n",
       "    <tr>\n",
       "      <td>15846</td>\n",
       "      <td>8階／6階建</td>\n",
       "      <td>8</td>\n",
       "      <td>6</td>\n",
       "      <td>NaN</td>\n",
       "    </tr>\n",
       "    <tr>\n",
       "      <td>20717</td>\n",
       "      <td>6階</td>\n",
       "      <td>6</td>\n",
       "      <td>2</td>\n",
       "      <td>NaN</td>\n",
       "    </tr>\n",
       "    <tr>\n",
       "      <td>22629</td>\n",
       "      <td>3階</td>\n",
       "      <td>3</td>\n",
       "      <td>2</td>\n",
       "      <td>NaN</td>\n",
       "    </tr>\n",
       "    <tr>\n",
       "      <td>23954</td>\n",
       "      <td>7階</td>\n",
       "      <td>7</td>\n",
       "      <td>2</td>\n",
       "      <td>NaN</td>\n",
       "    </tr>\n",
       "    <tr>\n",
       "      <td>24242</td>\n",
       "      <td>7階</td>\n",
       "      <td>7</td>\n",
       "      <td>2</td>\n",
       "      <td>NaN</td>\n",
       "    </tr>\n",
       "    <tr>\n",
       "      <td>26506</td>\n",
       "      <td>3階</td>\n",
       "      <td>3</td>\n",
       "      <td>2</td>\n",
       "      <td>NaN</td>\n",
       "    </tr>\n",
       "    <tr>\n",
       "      <td>27144</td>\n",
       "      <td>21階／3階建</td>\n",
       "      <td>21</td>\n",
       "      <td>3</td>\n",
       "      <td>NaN</td>\n",
       "    </tr>\n",
       "    <tr>\n",
       "      <td>28217</td>\n",
       "      <td>4階／1階建</td>\n",
       "      <td>4</td>\n",
       "      <td>1</td>\n",
       "      <td>NaN</td>\n",
       "    </tr>\n",
       "    <tr>\n",
       "      <td>29127</td>\n",
       "      <td>3階</td>\n",
       "      <td>3</td>\n",
       "      <td>2</td>\n",
       "      <td>NaN</td>\n",
       "    </tr>\n",
       "    <tr>\n",
       "      <td>30506</td>\n",
       "      <td>44階／4階建</td>\n",
       "      <td>44</td>\n",
       "      <td>4</td>\n",
       "      <td>NaN</td>\n",
       "    </tr>\n",
       "    <tr>\n",
       "      <td>31118</td>\n",
       "      <td>7階</td>\n",
       "      <td>7</td>\n",
       "      <td>2</td>\n",
       "      <td>NaN</td>\n",
       "    </tr>\n",
       "  </tbody>\n",
       "</table>\n",
       "</div>"
      ],
      "text/plain": [
       "       floor_stories  floor  stories    target\n",
       "1203          2階／1階建      2        1  110000.0\n",
       "2611              3階      3        2  100000.0\n",
       "11488             5階      5        2  176000.0\n",
       "14238        10階／8階建     10        8   62000.0\n",
       "20743         7階／2階建      7        2   89000.0\n",
       "21504         4階／2階建      4        2  103000.0\n",
       "28317             3階      3        2  161800.0\n",
       "956           3階／2階建      3        2       NaN\n",
       "983           2階／1階建      2        1       NaN\n",
       "3154   13階／4階建（地下1階）     13        4       NaN\n",
       "5701              4階      4        2       NaN\n",
       "5794          4階／2階建      4        2       NaN\n",
       "5931          3階／2階建      3        2       NaN\n",
       "7414          4階／2階建      4        2       NaN\n",
       "7627    4階／3階建（地下1階）      4        3       NaN\n",
       "8623              4階      4        2       NaN\n",
       "9095              8階      8        2       NaN\n",
       "9206              5階      5        2       NaN\n",
       "14821             3階      3        2       NaN\n",
       "15846         8階／6階建      8        6       NaN\n",
       "20717             6階      6        2       NaN\n",
       "22629             3階      3        2       NaN\n",
       "23954             7階      7        2       NaN\n",
       "24242             7階      7        2       NaN\n",
       "26506             3階      3        2       NaN\n",
       "27144        21階／3階建     21        3       NaN\n",
       "28217         4階／1階建      4        1       NaN\n",
       "29127             3階      3        2       NaN\n",
       "30506        44階／4階建     44        4       NaN\n",
       "31118             7階      7        2       NaN"
      ]
     },
     "execution_count": 276,
     "metadata": {},
     "output_type": "execute_result"
    }
   ],
   "source": [
    "# THERE ARE MANY INVALID DATA!!!\n",
    "df[df['floor'] > df['stories']][['floor_stories', 'floor', 'stories', 'target']]"
   ]
  },
  {
   "cell_type": "code",
   "execution_count": 282,
   "metadata": {
    "ExecuteTime": {
     "end_time": "2019-10-18T08:15:40.907390Z",
     "start_time": "2019-10-18T08:15:40.489318Z"
    }
   },
   "outputs": [
    {
     "data": {
      "text/plain": [
       "<matplotlib.axes._subplots.AxesSubplot at 0x7f079bd4a250>"
      ]
     },
     "execution_count": 282,
     "metadata": {},
     "output_type": "execute_result"
    },
    {
     "data": {
      "image/png": "[encoded data removed]",
      "text/plain": [
       "<Figure size 432x288 with 1 Axes>"
      ]
     },
     "metadata": {
      "needs_background": "light"
     },
     "output_type": "display_data"
    }
   ],
   "source": [
    "sns.distplot(df['floor'])"
   ]
  },
  {
   "cell_type": "code",
   "execution_count": 283,
   "metadata": {
    "ExecuteTime": {
     "end_time": "2019-10-18T08:16:06.174475Z",
     "start_time": "2019-10-18T08:16:05.750344Z"
    }
   },
   "outputs": [
    {
     "data": {
      "text/plain": [
       "<matplotlib.axes._subplots.AxesSubplot at 0x7f079ab4c190>"
      ]
     },
     "execution_count": 283,
     "metadata": {},
     "output_type": "execute_result"
    },
    {
     "data": {
      "image/png": "[encoded data removed]",
      "text/plain": [
       "<Figure size 432x288 with 1 Axes>"
      ]
     },
     "metadata": {
      "needs_background": "light"
     },
     "output_type": "display_data"
    }
   ],
   "source": [
    "sns.distplot(df['stories'])"
   ]
  },
  {
   "cell_type": "code",
   "execution_count": null,
   "metadata": {
    "ExecuteTime": {
     "end_time": "2019-10-18T08:53:05.976531Z",
     "start_time": "2019-10-18T08:52:46.245Z"
    }
   },
   "outputs": [],
   "source": [
    "floor, stories = floor_stories(df)"
   ]
  },
  {
   "cell_type": "code",
   "execution_count": 387,
   "metadata": {
    "ExecuteTime": {
     "end_time": "2019-10-18T08:53:38.411850Z",
     "start_time": "2019-10-18T08:53:36.948983Z"
    }
   },
   "outputs": [
    {
     "data": {
      "text/plain": [
       "<matplotlib.axes._subplots.AxesSubplot at 0x7f07838d7950>"
      ]
     },
     "execution_count": 387,
     "metadata": {},
     "output_type": "execute_result"
    },
    {
     "data": {
      "image/png": "[encoded data removed]",
      "text/plain": [
       "<Figure size 432x288 with 1 Axes>"
      ]
     },
     "metadata": {
      "needs_background": "light"
     },
     "output_type": "display_data"
    }
   ],
   "source": [
    "sns.violinplot(x=floor, y=np.log(df['target']))"
   ]
  },
  {
   "cell_type": "code",
   "execution_count": 388,
   "metadata": {
    "ExecuteTime": {
     "end_time": "2019-10-18T08:53:54.908539Z",
     "start_time": "2019-10-18T08:53:53.559292Z"
    },
    "scrolled": true
   },
   "outputs": [
    {
     "data": {
      "text/plain": [
       "<matplotlib.axes._subplots.AxesSubplot at 0x7f0781db4890>"
      ]
     },
     "execution_count": 388,
     "metadata": {},
     "output_type": "execute_result"
    },
    {
     "data": {
      "image/png": "[encoded data removed]",
      "text/plain": [
       "<Figure size 432x288 with 1 Axes>"
      ]
     },
     "metadata": {
      "needs_background": "light"
     },
     "output_type": "display_data"
    }
   ],
   "source": [
    "sns.violinplot(x=stories, y=np.log(df['target']))"
   ]
  },
  {
   "cell_type": "markdown",
   "metadata": {
    "ExecuteTime": {
     "end_time": "2019-10-18T08:19:48.952917Z",
     "start_time": "2019-10-18T08:19:48.905762Z"
    }
   },
   "source": [
    "## contract : contract, periodic "
   ]
  },
  {
   "cell_type": "code",
   "execution_count": 389,
   "metadata": {
    "ExecuteTime": {
     "end_time": "2019-10-18T08:54:07.574150Z",
     "start_time": "2019-10-18T08:54:07.566347Z"
    }
   },
   "outputs": [],
   "source": [
    "def contract_periodic(df):\n",
    "    contract = df['contract'].str.replace(\"※この物件は\\t定期借家\\tです。\", '').str.replace('\\t', '')\n",
    "    contract[contract.str.contains('まで').fillna(True)] = '2年間'\n",
    "    year = contract.str.extract(r'(\\d)年間').fillna(0).astype(int)\n",
    "    month = contract.str.extract(r'(\\d)ヶ月間').fillna(0).astype(int)\n",
    "    contract = year + (month / 12)\n",
    "    contract = contract.iloc[:, 0]\n",
    "    \n",
    "    periodic = df['contract'].str.contains('定期借家').fillna(0).astype(int)\n",
    "    \n",
    "    return contract, periodic"
   ]
  },
  {
   "cell_type": "code",
   "execution_count": 390,
   "metadata": {
    "ExecuteTime": {
     "end_time": "2019-10-18T08:54:08.242950Z",
     "start_time": "2019-10-18T08:54:07.932823Z"
    }
   },
   "outputs": [],
   "source": [
    "contract, periodic = contract_periodic(df)"
   ]
  },
  {
   "cell_type": "code",
   "execution_count": 391,
   "metadata": {
    "ExecuteTime": {
     "end_time": "2019-10-18T08:54:08.407996Z",
     "start_time": "2019-10-18T08:54:08.394647Z"
    }
   },
   "outputs": [
    {
     "data": {
      "text/plain": [
       "2.000000    61230\n",
       "5.000000      516\n",
       "3.000000      469\n",
       "1.000000      309\n",
       "4.000000      124\n",
       "0.166667       20\n",
       "6.000000       13\n",
       "7.000000       13\n",
       "0.000000       11\n",
       "0.500000        8\n",
       "0.750000        4\n",
       "0.666667        4\n",
       "0.083333        3\n",
       "0.583333        3\n",
       "0.416667        2\n",
       "0.333333        2\n",
       "0.250000        1\n",
       "Name: 0, dtype: int64"
      ]
     },
     "execution_count": 391,
     "metadata": {},
     "output_type": "execute_result"
    }
   ],
   "source": [
    "contract.value_counts()"
   ]
  },
  {
   "cell_type": "code",
   "execution_count": 392,
   "metadata": {
    "ExecuteTime": {
     "end_time": "2019-10-18T08:54:10.600446Z",
     "start_time": "2019-10-18T08:54:10.591359Z"
    }
   },
   "outputs": [
    {
     "data": {
      "text/plain": [
       "0    59382\n",
       "1     3350\n",
       "Name: contract, dtype: int64"
      ]
     },
     "execution_count": 392,
     "metadata": {},
     "output_type": "execute_result"
    }
   ],
   "source": [
    "periodic.value_counts()"
   ]
  },
  {
   "cell_type": "code",
   "execution_count": 393,
   "metadata": {
    "ExecuteTime": {
     "end_time": "2019-10-18T08:54:11.796621Z",
     "start_time": "2019-10-18T08:54:11.413145Z"
    }
   },
   "outputs": [
    {
     "data": {
      "text/plain": [
       "<matplotlib.axes._subplots.AxesSubplot at 0x7f07819c2490>"
      ]
     },
     "execution_count": 393,
     "metadata": {},
     "output_type": "execute_result"
    },
    {
     "data": {
      "image/png": "[encoded data removed]",
      "text/plain": [
       "<Figure size 432x288 with 1 Axes>"
      ]
     },
     "metadata": {
      "needs_background": "light"
     },
     "output_type": "display_data"
    }
   ],
   "source": [
    "# Little correlation\n",
    "sns.violinplot(x=contract.astype(int), y=np.log(df['target']))"
   ]
  },
  {
   "cell_type": "code",
   "execution_count": 394,
   "metadata": {
    "ExecuteTime": {
     "end_time": "2019-10-18T08:54:13.136842Z",
     "start_time": "2019-10-18T08:54:12.871770Z"
    }
   },
   "outputs": [
    {
     "data": {
      "text/plain": [
       "<matplotlib.axes._subplots.AxesSubplot at 0x7f078124b6d0>"
      ]
     },
     "execution_count": 394,
     "metadata": {},
     "output_type": "execute_result"
    },
    {
     "data": {
      "image/png": "[encoded data removed]",
      "text/plain": [
       "<Figure size 432x288 with 1 Axes>"
      ]
     },
     "metadata": {
      "needs_background": "light"
     },
     "output_type": "display_data"
    }
   ],
   "source": [
    "sns.violinplot(x=periodic, y=np.log(df['target']))"
   ]
  }
 ],
 "metadata": {
  "kernelspec": {
   "display_name": "Python 3",
   "language": "python",
   "name": "python3"
  },
  "language_info": {
   "codemirror_mode": {
    "name": "ipython",
    "version": 3
   },
   "file_extension": ".py",
   "mimetype": "text/x-python",
   "name": "python",
   "nbconvert_exporter": "python",
   "pygments_lexer": "ipython3",
   "version": "3.7.4"
  },
  "toc": {
   "base_numbering": 1,
   "nav_menu": {},
   "number_sections": true,
   "sideBar": true,
   "skip_h1_title": false,
   "title_cell": "Table of Contents",
   "title_sidebar": "Contents",
   "toc_cell": false,
   "toc_position": {},
   "toc_section_display": true,
   "toc_window_display": false
  }
 },
 "nbformat": 4,
 "nbformat_minor": 2
}
